{
 "cells": [
  {
   "cell_type": "code",
   "execution_count": 1,
   "metadata": {},
   "outputs": [],
   "source": [
    "# these warning filters are needed for a numpy error\n",
    "import warnings\n",
    "warnings.filterwarnings(\"ignore\", message=\"numpy.dtype size changed\") # due a RuntimeWarning with numpy.dtype\n",
    "import pandas as pd\n",
    "import numpy as np\n",
    "import matplotlib.pyplot as plt\n",
    "%matplotlib inline\n",
    "import math"
   ]
  },
  {
   "cell_type": "code",
   "execution_count": 2,
   "metadata": {},
   "outputs": [],
   "source": [
    "def mdia_to_xyz_minCurve(deviation):\n",
    "    \"\"\"\n",
    "    A function to convert a well deviation (path of csv file) given in MD[m], incl[deg], azi[deg]\n",
    "    into an xyz array with x[m], y[m], z[m] using the minimum curvature method\n",
    "    according to: [drillingformulas.com](http://bit.ly/2MNp7U0)\n",
    "    \"\"\"\n",
    "    # read data\n",
    "    data = pd.read_csv(deviation, sep=',', header='infer')\n",
    "    # clean data\n",
    "    data.drop(columns=['Unnamed: 0'], inplace=True)\n",
    "    #data['Dogleg [deg/30m]'].replace(np.nan, 0, inplace=True)\n",
    "    # add columns needed for calculations\n",
    "    data['Dogleg_rad [rad/30m]'] = np.radians(data['Dogleg [deg/30m]'])\n",
    "    data['RatioFactor'] = (2 / data['Dogleg_rad [rad/30m]']) * np.tan(data['Dogleg_rad [rad/30m]'] / 2)\n",
    "    # calculate intervals\n",
    "    delta_MD = np.array(data['MD[m]'][1:]) - np.array(data['MD[m]'][:-1])\n",
    "    # get uppers/lowers\n",
    "    RF_lower = np.array(data['RatioFactor'][1:])\n",
    "    incl_upper = np.array(data['Inc[deg]'][:-1])\n",
    "    incl_lower = np.array(data['Inc[deg]'][1:])\n",
    "    azi_upper = np.array(data['Azi[deg]'][:-1])\n",
    "    azi_lower = np.array(data['Azi[deg]'][1:])\n",
    "    # calculate xyz\n",
    "    east_x = delta_MD / 2 * (np.sin(np.radians(incl_upper)) * np.sin(np.radians(azi_upper)) \n",
    "                             + np.sin(np.radians(incl_lower)) * np.sin(np.radians(azi_lower))) * RF_lower\n",
    "    \n",
    "    north_y = delta_MD / 2 * (np.sin(np.radians(incl_upper)) * np.cos(np.radians(azi_upper)) \n",
    "                             + np.sin(np.radians(incl_lower)) * np.cos(np.radians(azi_lower))) * RF_lower\n",
    "    \n",
    "    TVD_z = delta_MD / 2 * (np.cos(np.radians(incl_upper)) + np.cos(np.radians(incl_lower))) * RF_lower\n",
    "    \n",
    "    return east_x, north_y, TVD_z"
   ]
  },
  {
   "cell_type": "code",
   "execution_count": 3,
   "metadata": {},
   "outputs": [],
   "source": [
    "x = mdia_to_xyz_minCurve('../data/cleanedData/survey_edt.csv')[0]\n",
    "y = mdia_to_xyz_minCurve('../data/cleanedData/survey_edt.csv')[1]\n",
    "z = mdia_to_xyz_minCurve('../data/cleanedData/survey_edt.csv')[2]"
   ]
  },
  {
   "cell_type": "code",
   "execution_count": null,
   "metadata": {},
   "outputs": [],
   "source": []
  }
 ],
 "metadata": {
  "kernelspec": {
   "display_name": "fracs",
   "language": "python",
   "name": "fracs"
  },
  "language_info": {
   "codemirror_mode": {
    "name": "ipython",
    "version": 3
   },
   "file_extension": ".py",
   "mimetype": "text/x-python",
   "name": "python",
   "nbconvert_exporter": "python",
   "pygments_lexer": "ipython3",
   "version": "3.6.6"
  }
 },
 "nbformat": 4,
 "nbformat_minor": 2
}
